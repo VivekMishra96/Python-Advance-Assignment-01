{
 "cells": [
  {
   "cell_type": "code",
   "execution_count": null,
   "id": "50793ba3",
   "metadata": {},
   "outputs": [],
   "source": [
    "1. What is the purpose of Python's OOP?"
   ]
  },
  {
   "cell_type": "code",
   "execution_count": null,
   "id": "4249dc66",
   "metadata": {},
   "outputs": [],
   "source": [
    "#ans.\n",
    "Object-oriented programming is a programming paradigm that provides a means of structuring programs so that properties and behaviors are bundled into individual objects\n",
    "\n",
    "1.In Python, object-oriented Programming (OOPs) uses objects and classes in programming.\n",
    "2.It aims to implement real-world entities like inheritance, polymorphisms, encapsulation, etc. in the programming.\n",
    "3.The main concept of OOPs is to bind the data and the functions that work on that together as a single unit so that no other part of the code can access this data.\n",
    "4.It comes up with the following advantages:\n",
    "5.It helps to divide our over all program into different small segments and thus making it solving easy with the use of objects\n",
    "6.Helps in easy maintenance and modification of existing program\n",
    "7.Multiple instances of an object can be made."
   ]
  },
  {
   "cell_type": "code",
   "execution_count": null,
   "id": "87599458",
   "metadata": {},
   "outputs": [],
   "source": [
    "2.Where does an inheritance search look for an attribute?"
   ]
  },
  {
   "cell_type": "code",
   "execution_count": null,
   "id": "8b5a13d8",
   "metadata": {},
   "outputs": [],
   "source": [
    "#ans.\n",
    "Python searches for an attribute in an upward tree of attributes. It first searches for the attribute in its instance and then looks in the class it is generated from,\n",
    "to all super classes listed in its class header"
   ]
  },
  {
   "cell_type": "code",
   "execution_count": null,
   "id": "0f7ca393",
   "metadata": {},
   "outputs": [],
   "source": [
    "3. How do you distinguish between a class object and an instance object?"
   ]
  },
  {
   "cell_type": "code",
   "execution_count": null,
   "id": "2de62c57",
   "metadata": {},
   "outputs": [],
   "source": [
    "#ans.\n",
    "The differences between a class object and an instance object are:\n",
    "\n",
    "1.Class is a template for creating objects whereas object is an instance of class\n",
    "2.Seperate memory is allocated for each object whenever an object is created. but for a class this doesnot happens.\n",
    "3.A Class is created once. Many objects are created using a class.\n",
    "4.As Classes have no allocated memory. they can't be manipulated. but objects can be manipulated."
   ]
  },
  {
   "cell_type": "code",
   "execution_count": null,
   "id": "3ae900bf",
   "metadata": {},
   "outputs": [],
   "source": [
    "4. What makes the first argument in a class’s method function special?"
   ]
  },
  {
   "cell_type": "code",
   "execution_count": null,
   "id": "98c2ec0a",
   "metadata": {},
   "outputs": [],
   "source": [
    "#ans.\n",
    "Python Classes usually have three types of methods which are:\n",
    "\n",
    "1.Instance Methods (object level methods)\n",
    "2.Class Methods (class level methods)\n",
    "3.Static Methods (general utility methods)\n",
    "4.self is the first argument for instance methods. which refers to the object itself\n",
    "5.cls is the first argument for class methods which refers to the class itself"
   ]
  },
  {
   "cell_type": "code",
   "execution_count": null,
   "id": "9663d478",
   "metadata": {},
   "outputs": [],
   "source": [
    "5.What is the purpose of the init method?"
   ]
  },
  {
   "cell_type": "code",
   "execution_count": null,
   "id": "f5f11c53",
   "metadata": {},
   "outputs": [],
   "source": [
    "#ans.\n",
    "__init__ is a reseved method in python classes. It serves the role of a constructor in object oriented terminology.\n",
    "This method is called when an object is created from a class and it allows the class to initialize the attributes of the class."
   ]
  },
  {
   "cell_type": "code",
   "execution_count": null,
   "id": "a5e6358b",
   "metadata": {},
   "outputs": [],
   "source": [
    "6. What is the process for creating a class instance?"
   ]
  },
  {
   "cell_type": "code",
   "execution_count": null,
   "id": "239cd7a4",
   "metadata": {},
   "outputs": [],
   "source": [
    "#ans.\n",
    " To create a class instance, we need to call the class by its name and pass the arguments to the class, which its init method accepts."
   ]
  },
  {
   "cell_type": "code",
   "execution_count": null,
   "id": "d4317a01",
   "metadata": {},
   "outputs": [],
   "source": [
    "7. What is the process for creating a class?"
   ]
  },
  {
   "cell_type": "code",
   "execution_count": null,
   "id": "2cf62f70",
   "metadata": {},
   "outputs": [],
   "source": [
    "#ans.\n",
    "class keyword is used to created a class in python. The syntax to create a class in python is class <classname>:"
   ]
  },
  {
   "cell_type": "code",
   "execution_count": null,
   "id": "2e124655",
   "metadata": {},
   "outputs": [],
   "source": [
    "8. How would you define the superclasses of a class?"
   ]
  },
  {
   "cell_type": "code",
   "execution_count": null,
   "id": "fff74eeb",
   "metadata": {},
   "outputs": [],
   "source": [
    " #ans.Superclass/Parent class is given as a arugment to the child class"
   ]
  },
  {
   "cell_type": "code",
   "execution_count": null,
   "id": "61c1e787",
   "metadata": {},
   "outputs": [],
   "source": []
  },
  {
   "cell_type": "code",
   "execution_count": null,
   "id": "69bcd13b",
   "metadata": {},
   "outputs": [],
   "source": []
  },
  {
   "cell_type": "code",
   "execution_count": null,
   "id": "e15d1c46",
   "metadata": {},
   "outputs": [],
   "source": []
  },
  {
   "cell_type": "code",
   "execution_count": null,
   "id": "7bb3c18d",
   "metadata": {},
   "outputs": [],
   "source": []
  }
 ],
 "metadata": {
  "kernelspec": {
   "display_name": "Python 3 (ipykernel)",
   "language": "python",
   "name": "python3"
  },
  "language_info": {
   "codemirror_mode": {
    "name": "ipython",
    "version": 3
   },
   "file_extension": ".py",
   "mimetype": "text/x-python",
   "name": "python",
   "nbconvert_exporter": "python",
   "pygments_lexer": "ipython3",
   "version": "3.9.7"
  }
 },
 "nbformat": 4,
 "nbformat_minor": 5
}
